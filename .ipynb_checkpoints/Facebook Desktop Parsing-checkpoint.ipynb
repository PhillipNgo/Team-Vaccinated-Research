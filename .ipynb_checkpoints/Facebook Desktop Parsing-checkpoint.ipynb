{
 "cells": [
  {
   "cell_type": "code",
   "execution_count": 1,
   "metadata": {},
   "outputs": [],
   "source": [
    "import pandas as pd\n",
    "import numpy as np\n",
    "from bs4 import BeautifulSoup, NavigableString"
   ]
  },
  {
   "cell_type": "code",
   "execution_count": 9,
   "metadata": {},
   "outputs": [],
   "source": [
    "f, full_soup = None, None\n",
    "try:\n",
    "    f = open('Stop Mandatory Vaccination - Posts.html', encoding='utf-8')\n",
    "    full_soup = BeautifulSoup(f)\n",
    "except Exception as e:\n",
    "    print(e)"
   ]
  },
  {
   "cell_type": "code",
   "execution_count": 8,
   "metadata": {},
   "outputs": [],
   "source": [
    "#Parse a given post's soup\n",
    "def parse_post(post_soup):\n",
    "    data = {}\n",
    "    \n",
    "    #Get date published\n",
    "    data['timestamp'] = post_soup.find('span', class_='fsm fwn fcg').find('span', class_='timestampContent').text\n",
    "    \n",
    "    #Get text and links on the post\n",
    "    data['links'] = []\n",
    "    data['text'] = ''\n",
    "    for p in post_soup.find_all('p'):\n",
    "        if p.a:\n",
    "            a_tags = p.a.extract()\n",
    "            data['links'].append(a_tags.text.strip())\n",
    "        data['text'] += p.text.strip()\n",
    "    \n",
    "    #Find if it has an image or not\n",
    "    img = post_soup.find('img', {'class': 'scaledImageFitWidth img'})\n",
    "    data['img_src'] = img.attrs['src'] if img and 'src' in img.attrs else None\n",
    "    data['img-label'] = img.attrs['aria-label'] if img and 'aria-label' in img.attrs else None\n",
    "    \n",
    "    #Get the link info if it exists\n",
    "    article = post_soup.find('div', {'class': 'mbs'})\n",
    "    data['article_name'] = article.text if article and 'text' in article else None\n",
    "    host = post_soup.find('div', {'class': '_6lz _6mb _1t62 ellipsis'})\n",
    "    data['article_host'] = host.text if host and 'text' in host else None\n",
    "    subtitle = post_soup.find('div', class_='_6m7 _3bt9')\n",
    "    data['article_subtitle'] = subtitle.text if subtitle else None\n",
    "    \n",
    "    #Find other profiles if it has linked to them\n",
    "    data['linked_profiles'] = [page.text for page in post_soup.find_all('span', class_='fwb')\n",
    "                               if page.text != 'Stop Mandatory Vaccination']\n",
    "    \n",
    "    return data"
   ]
  },
  {
   "cell_type": "code",
   "execution_count": 10,
   "metadata": {},
   "outputs": [],
   "source": [
    "#Parse all posts given a soup\n",
    "def parse_posts(soup, limit=0):\n",
    "    for i, post_child in enumerate(soup.find_all('div', class_='userContent')):\n",
    "        if limit != 0 and i >= limit:\n",
    "            break\n",
    "        yield parse_post(post_child.parent)"
   ]
  },
  {
   "cell_type": "code",
   "execution_count": 28,
   "metadata": {},
   "outputs": [],
   "source": [
    "posts = list(parse_posts(full_soup, limit=3))"
   ]
  },
  {
   "cell_type": "code",
   "execution_count": 29,
   "metadata": {
    "scrolled": false
   },
   "outputs": [
    {
     "name": "stdout",
     "output_type": "stream",
     "text": [
      "{   'article_host': None,\n",
      "    'article_name': None,\n",
      "    'article_subtitle': 'This is where you start, right here, with these excellent resources that medical '\n",
      "                        'professionals, scientists and activists have created for us so YOU can understand '\n",
      "                        'this vaccine topic more clearly.',\n",
      "    'img-label': 'Amazon Censorship Of Vaccine Books',\n",
      "    'img_src': './Stop Mandatory Vaccination - '\n",
      "               'Posts_files/53730872_6120443278387_5582746568928264192_n.png.jpg',\n",
      "    'linked_profiles': [],\n",
      "    'links': [],\n",
      "    'text': 'Get educated. Seriously, read several books and learn and understand this topic inside and out '\n",
      "            'so you can rebuke the pediatrician, the politician, your friends, your family, and everyone who '\n",
      "            'may harass you for not vaccinating. And then, get into this fight with us and educate others. '\n",
      "            'This is where you start, right here, with these excellent resources that medical professionals, '\n",
      "            'scientists and activists have created for us so YOU can understand this vaccine topic more '\n",
      "            'clearly. I suggest you purchase as many as you can afford: there is no such thing as being '\n",
      "            '“overeducated” on this topic that affects us all.',\n",
      "    'timestamp': 'March 3 at 4:27 PM'}\n",
      "{   'article_host': None,\n",
      "    'article_name': None,\n",
      "    'article_subtitle': None,\n",
      "    'img-label': None,\n",
      "    'img_src': './Stop Mandatory Vaccination - '\n",
      "               'Posts_files/53092817_1517121765086810_304314766682226688_n.jpg',\n",
      "    'linked_profiles': [],\n",
      "    'links': [],\n",
      "    'text': 'Your host of The Thyroid Reset Summit, Dr. Justin Marchegiani, works with patients all over the '\n",
      "            'world who are challenged by underlying thyroid issues. He created this health event to teach '\n",
      "            'you to examine your health from all angles -- not just the convenient ones -- and find answers '\n",
      "            \"to continue your healing journey.He'll share that wisdom with you during The Thyroid Reset \"\n",
      "            'Summit, airing now:',\n",
      "    'timestamp': '24 mins'}\n",
      "{   'article_host': None,\n",
      "    'article_name': None,\n",
      "    'article_subtitle': None,\n",
      "    'img-label': None,\n",
      "    'img_src': None,\n",
      "    'linked_profiles': [],\n",
      "    'links': [],\n",
      "    'text': 'If the US Federal Govt mandates vaccines will you move to another country?',\n",
      "    'timestamp': '56 mins'}\n"
     ]
    }
   ],
   "source": [
    "import pprint\n",
    "pp = pprint.PrettyPrinter(indent=4, width=110)\n",
    "for p in posts:\n",
    "    pp.pprint(p)"
   ]
  },
  {
   "cell_type": "code",
   "execution_count": null,
   "metadata": {},
   "outputs": [],
   "source": []
  }
 ],
 "metadata": {
  "kernelspec": {
   "display_name": "Python 3",
   "language": "python",
   "name": "python3"
  },
  "language_info": {
   "codemirror_mode": {
    "name": "ipython",
    "version": 3
   },
   "file_extension": ".py",
   "mimetype": "text/x-python",
   "name": "python",
   "nbconvert_exporter": "python",
   "pygments_lexer": "ipython3",
   "version": "3.7.2"
  }
 },
 "nbformat": 4,
 "nbformat_minor": 2
}
