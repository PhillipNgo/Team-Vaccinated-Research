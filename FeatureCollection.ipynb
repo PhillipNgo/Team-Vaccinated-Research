{
 "cells": [
  {
   "cell_type": "markdown",
   "metadata": {},
   "source": [
    "**From Real News vs Fake News Article**\n",
    "\n",
    "Stylistic Features\n",
    "\n",
    "- NLTK Part of Speech (POS) tagger\n",
    "- Stop words, punctuation, quotes, negations, informal/swear words, interrogatives (how, when, what, why)\n",
    "- All caps words\n",
    "- LIWC\n",
    "\n",
    "Complexity Features\n",
    "\n",
    "- Look at sentence and word level\n",
    "- Number of words per sentence\n",
    "- Syntax Tree depth\n",
    "- Verb Phrase syntax tree depth using Standford Parser\n",
    "- \"We expect that more words per sentence and deeper syntax trees mean the average sentence structure complexity is high.\"\n",
    "- Readability using grade level index: Gunning Fog, SMOG Grade, Flesh-Kincaid (higher score, higher reading level)\n",
    "- Type-Token Ratio (TTR). Unique words divided by total number of words\n",
    "- Fluency: \" how frequently a term in a document is found in a large English corpus\" (corpus of contemporary american english)\n",
    "\n",
    "Psychological Features\n",
    "\n",
    "- Use LIWC to measure cognitive processes, drives, and personal concerns\n",
    "- Basic bag-of-words sentiment (senti-strength)\n",
    "\n",
    "**From Text Mining Article**\n",
    "\n",
    "- Word Pairings\n"
   ]
  },
  {
   "cell_type": "code",
   "execution_count": null,
   "metadata": {},
   "outputs": [],
   "source": []
  }
 ],
 "metadata": {
  "kernelspec": {
   "display_name": "Python 3",
   "language": "python",
   "name": "python3"
  },
  "language_info": {
   "codemirror_mode": {
    "name": "ipython",
    "version": 3
   },
   "file_extension": ".py",
   "mimetype": "text/x-python",
   "name": "python",
   "nbconvert_exporter": "python",
   "pygments_lexer": "ipython3",
   "version": "3.5.2"
  }
 },
 "nbformat": 4,
 "nbformat_minor": 2
}
