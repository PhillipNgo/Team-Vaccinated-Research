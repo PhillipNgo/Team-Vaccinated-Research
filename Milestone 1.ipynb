{
 "cells": [
  {
   "cell_type": "markdown",
   "metadata": {},
   "source": [
    "# Team Vaccinated: Milestone 1"
   ]
  },
  {
   "cell_type": "markdown",
   "metadata": {},
   "source": [
    "## Part 1: Introduction\n",
    "\n",
    "The goal of this practicum is to gather data from Facebook.\n",
    "\n",
    "The following Python libraries are used:\n",
    " - Pandas: ...\n",
    " - Numpy: ...\n",
    " - BeautifulSoup: ..."
   ]
  },
  {
   "cell_type": "markdown",
   "metadata": {},
   "source": [
    "## Part 2: Gather data\n",
    "\n",
    "1. Open a page in Facebook.\n",
    "2. Scroll down.\n",
    "3. Ctrl+s to save page."
   ]
  },
  {
   "cell_type": "markdown",
   "metadata": {},
   "source": [
    "## Part 3: Run code\n",
    "\n",
    "Run the code below to import the necessary libraries."
   ]
  },
  {
   "cell_type": "code",
   "execution_count": 1,
   "metadata": {},
   "outputs": [],
   "source": [
    "import pandas as pd\n",
    "import numpy as np\n",
    "from bs4 import BeautifulSoup, NavigableString"
   ]
  },
  {
   "cell_type": "code",
   "execution_count": 2,
   "metadata": {},
   "outputs": [],
   "source": [
    "#filename = 'Stop Mandatory Vaccination - Posts.html'\n",
    "filename = 'HealthCare.gov - Posts.html'\n",
    "number_of_posts = 3"
   ]
  },
  {
   "cell_type": "code",
   "execution_count": 3,
   "metadata": {},
   "outputs": [],
   "source": [
    "f, full_soup = None, None\n",
    "\n",
    "try:\n",
    "    f = open(filename, encoding='utf-8')\n",
    "    full_soup = BeautifulSoup(f)\n",
    "except Exception as e:\n",
    "    print(e)"
   ]
  },
  {
   "cell_type": "code",
   "execution_count": 4,
   "metadata": {},
   "outputs": [],
   "source": [
    "#Parse a given post's soup\n",
    "def parse_post(post_soup):\n",
    "    data = {}\n",
    "    \n",
    "    #Get date published\n",
    "    data['timestamp'] = post_soup.find('span', class_='fsm fwn fcg').find('span', class_='timestampContent').text\n",
    "    \n",
    "    #Get text and links on the post\n",
    "    data['links'] = []\n",
    "    data['text'] = ''\n",
    "    for p in post_soup.find_all('p'):\n",
    "        if p.a:\n",
    "            a_tags = p.a.extract()\n",
    "            data['links'].append(a_tags.text.strip())\n",
    "        data['text'] += p.text.strip()\n",
    "    \n",
    "    #Find if it has an image or not\n",
    "    img = post_soup.find('img', {'class': 'scaledImageFitWidth img'})\n",
    "    data['img_src'] = img.attrs['src'] if img and 'src' in img.attrs else None\n",
    "    data['img-label'] = img.attrs['aria-label'] if img and 'aria-label' in img.attrs else None\n",
    "    \n",
    "    #Get the link info if it exists\n",
    "    article = post_soup.find('div', {'class': 'mbs'})\n",
    "    data['article_name'] = article.text if article and 'text' in article else None\n",
    "    host = post_soup.find('div', {'class': '_6lz _6mb _1t62 ellipsis'})\n",
    "    data['article_host'] = host.text if host and 'text' in host else None\n",
    "    subtitle = post_soup.find('div', class_='_6m7 _3bt9')\n",
    "    data['article_subtitle'] = subtitle.text if subtitle else None\n",
    "    \n",
    "    #Find other profiles if it has linked to them\n",
    "    data['linked_profiles'] = [page.text for page in post_soup.find_all('span', class_='fwb')\n",
    "                               if page.text != 'Stop Mandatory Vaccination']\n",
    "    \n",
    "    return data"
   ]
  },
  {
   "cell_type": "code",
   "execution_count": 5,
   "metadata": {},
   "outputs": [],
   "source": [
    "#Parse all posts given a soup\n",
    "def parse_posts(soup, limit=0):\n",
    "    for i, post_child in enumerate(soup.find_all('div', class_='userContent')):\n",
    "        if limit != 0 and i >= limit:\n",
    "            break\n",
    "        yield parse_post(post_child.parent)"
   ]
  },
  {
   "cell_type": "code",
   "execution_count": 6,
   "metadata": {},
   "outputs": [
    {
     "name": "stdout",
     "output_type": "stream",
     "text": [
      "Number of posts: 3\n"
     ]
    }
   ],
   "source": [
    "posts = list(parse_posts(full_soup, limit=number_of_posts))\n",
    "print('Number of posts: {}'.format(len(posts)))"
   ]
  },
  {
   "cell_type": "code",
   "execution_count": 9,
   "metadata": {
    "scrolled": false
   },
   "outputs": [
    {
     "name": "stdout",
     "output_type": "stream",
     "text": [
      "(': Eating healthy is important at any age, and it’s easy too! Just a few small changes can make a BIG '\n",
      " 'difference. Learn ways to find a healthy eating style that’s right for you:https://go.hc.gov/2NKUYWJ '\n",
      " '#NutritionMont')\n",
      "('No better time than during winter to jump start your path to being healthy. And no better way than to take '\n",
      " 'advantage of all the preventive services covered by the Marketplace:   #MondayMotivation')\n",
      "('We’re wearing blue for , are you? Don’t forget, colorectal cancer screenings are covered under the '\n",
      " 'Marketplace with no copayment or coinsurance.')\n"
     ]
    }
   ],
   "source": [
    "import pprint\n",
    "pp = pprint.PrettyPrinter(indent=4, width=110)\n",
    "for p in posts:\n",
    "    pp.pprint(p['text'])"
   ]
  }
 ],
 "metadata": {
  "kernelspec": {
   "display_name": "Python 3",
   "language": "python",
   "name": "python3"
  },
  "language_info": {
   "codemirror_mode": {
    "name": "ipython",
    "version": 3
   },
   "file_extension": ".py",
   "mimetype": "text/x-python",
   "name": "python",
   "nbconvert_exporter": "python",
   "pygments_lexer": "ipython3",
   "version": "3.7.1"
  }
 },
 "nbformat": 4,
 "nbformat_minor": 2
}
