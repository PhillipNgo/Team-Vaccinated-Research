{
 "cells": [
  {
   "cell_type": "code",
   "execution_count": 50,
   "metadata": {},
   "outputs": [],
   "source": [
    "import numpy as np\n",
    "import pandas as pd\n",
    "%matplotlib inline\n",
    "import matplotlib.pyplot as plt\n",
    "import seaborn as sns\n",
    "\n",
    "import os\n",
    "import fbdp\n",
    "import Liwc\n",
    "\n",
    "from tqdm import tqdm_notebook as tqdm"
   ]
  },
  {
   "cell_type": "code",
   "execution_count": 54,
   "metadata": {},
   "outputs": [
    {
     "data": {
      "text/html": [
       "<div>\n",
       "<style scoped>\n",
       "    .dataframe tbody tr th:only-of-type {\n",
       "        vertical-align: middle;\n",
       "    }\n",
       "\n",
       "    .dataframe tbody tr th {\n",
       "        vertical-align: top;\n",
       "    }\n",
       "\n",
       "    .dataframe thead th {\n",
       "        text-align: right;\n",
       "    }\n",
       "</style>\n",
       "<table border=\"1\" class=\"dataframe\">\n",
       "  <thead>\n",
       "    <tr style=\"text-align: right;\">\n",
       "      <th></th>\n",
       "      <th>article_host</th>\n",
       "      <th>article_name</th>\n",
       "      <th>article_subtitle</th>\n",
       "      <th>hashtags</th>\n",
       "      <th>img-label</th>\n",
       "      <th>img_src</th>\n",
       "      <th>linked_profiles</th>\n",
       "      <th>links</th>\n",
       "      <th>text</th>\n",
       "      <th>timestamp</th>\n",
       "    </tr>\n",
       "  </thead>\n",
       "  <tbody>\n",
       "    <tr>\n",
       "      <th>0</th>\n",
       "      <td>None</td>\n",
       "      <td>None</td>\n",
       "      <td>None</td>\n",
       "      <td>[]</td>\n",
       "      <td>None</td>\n",
       "      <td>None</td>\n",
       "      <td>[Advice4Parenting]</td>\n",
       "      <td>[http://advice4parenting.com/get-your-baby-to-...</td>\n",
       "      <td>Get your baby to sleep faster</td>\n",
       "      <td>3/20/14, 5:04 PM</td>\n",
       "    </tr>\n",
       "    <tr>\n",
       "      <th>1</th>\n",
       "      <td>None</td>\n",
       "      <td>None</td>\n",
       "      <td>None</td>\n",
       "      <td>[]</td>\n",
       "      <td>None</td>\n",
       "      <td>None</td>\n",
       "      <td>[Advice4Parenting]</td>\n",
       "      <td>[http://advice4parenting.com/parenting-tips-al...</td>\n",
       "      <td>Parenting Tips – All About Kid’s Health</td>\n",
       "      <td>3/7/14, 12:22 PM</td>\n",
       "    </tr>\n",
       "    <tr>\n",
       "      <th>2</th>\n",
       "      <td>None</td>\n",
       "      <td>None</td>\n",
       "      <td>None</td>\n",
       "      <td>[]</td>\n",
       "      <td>None</td>\n",
       "      <td>None</td>\n",
       "      <td>[Advice4Parenting]</td>\n",
       "      <td>[http://advice4parenting.com/4-tips-to-help-yo...</td>\n",
       "      <td>4 Tips to Help Your Nanny Discipline Your Kids</td>\n",
       "      <td>2/10/14, 1:26 PM</td>\n",
       "    </tr>\n",
       "    <tr>\n",
       "      <th>3</th>\n",
       "      <td>None</td>\n",
       "      <td>None</td>\n",
       "      <td>None</td>\n",
       "      <td>[]</td>\n",
       "      <td>None</td>\n",
       "      <td>None</td>\n",
       "      <td>[Advice4Parenting]</td>\n",
       "      <td>[http://advice4parenting.com/paying-it-forward...</td>\n",
       "      <td>Paying it Forward: Make Your Clothing Budget C...</td>\n",
       "      <td>1/17/14, 3:57 PM</td>\n",
       "    </tr>\n",
       "    <tr>\n",
       "      <th>4</th>\n",
       "      <td>None</td>\n",
       "      <td>None</td>\n",
       "      <td>None</td>\n",
       "      <td>[]</td>\n",
       "      <td>None</td>\n",
       "      <td>None</td>\n",
       "      <td>[Advice4Parenting]</td>\n",
       "      <td>[http://advice4parenting.com/work-examiner-for...</td>\n",
       "      <td>Work Examiner for Monitoring Children</td>\n",
       "      <td>1/15/14, 2:42 PM</td>\n",
       "    </tr>\n",
       "    <tr>\n",
       "      <th>5</th>\n",
       "      <td>None</td>\n",
       "      <td>None</td>\n",
       "      <td>None</td>\n",
       "      <td>[]</td>\n",
       "      <td>None</td>\n",
       "      <td>None</td>\n",
       "      <td>[Advice4Parenting]</td>\n",
       "      <td>[http://advice4parenting.com/best-convertible-...</td>\n",
       "      <td>Best Convertible Car Seat Buying Guide</td>\n",
       "      <td>1/14/14, 3:16 PM</td>\n",
       "    </tr>\n",
       "    <tr>\n",
       "      <th>6</th>\n",
       "      <td>None</td>\n",
       "      <td>None</td>\n",
       "      <td>None</td>\n",
       "      <td>[]</td>\n",
       "      <td>None</td>\n",
       "      <td>None</td>\n",
       "      <td>[Advice4Parenting]</td>\n",
       "      <td>[http://advice4parenting.com/money-lessons-for...</td>\n",
       "      <td>Money Lessons for Kids</td>\n",
       "      <td>1/12/14, 1:43 AM</td>\n",
       "    </tr>\n",
       "  </tbody>\n",
       "</table>\n",
       "</div>"
      ],
      "text/plain": [
       "  article_host article_name article_subtitle hashtags img-label img_src  \\\n",
       "0         None         None             None       []      None    None   \n",
       "1         None         None             None       []      None    None   \n",
       "2         None         None             None       []      None    None   \n",
       "3         None         None             None       []      None    None   \n",
       "4         None         None             None       []      None    None   \n",
       "5         None         None             None       []      None    None   \n",
       "6         None         None             None       []      None    None   \n",
       "\n",
       "      linked_profiles                                              links  \\\n",
       "0  [Advice4Parenting]  [http://advice4parenting.com/get-your-baby-to-...   \n",
       "1  [Advice4Parenting]  [http://advice4parenting.com/parenting-tips-al...   \n",
       "2  [Advice4Parenting]  [http://advice4parenting.com/4-tips-to-help-yo...   \n",
       "3  [Advice4Parenting]  [http://advice4parenting.com/paying-it-forward...   \n",
       "4  [Advice4Parenting]  [http://advice4parenting.com/work-examiner-for...   \n",
       "5  [Advice4Parenting]  [http://advice4parenting.com/best-convertible-...   \n",
       "6  [Advice4Parenting]  [http://advice4parenting.com/money-lessons-for...   \n",
       "\n",
       "                                                text         timestamp  \n",
       "0                     Get your baby to sleep faster   3/20/14, 5:04 PM  \n",
       "1           Parenting Tips – All About Kid’s Health   3/7/14, 12:22 PM  \n",
       "2    4 Tips to Help Your Nanny Discipline Your Kids   2/10/14, 1:26 PM  \n",
       "3  Paying it Forward: Make Your Clothing Budget C...  1/17/14, 3:57 PM  \n",
       "4             Work Examiner for Monitoring Children   1/15/14, 2:42 PM  \n",
       "5            Best Convertible Car Seat Buying Guide   1/14/14, 3:16 PM  \n",
       "6                            Money Lessons for Kids   1/12/14, 1:43 AM  "
      ]
     },
     "execution_count": 54,
     "metadata": {},
     "output_type": "execute_result"
    }
   ],
   "source": [
    "parser = fbdp.FBDesktopParser(filename='../../../Downloads/Advice4Parenting-Posts.html')\n",
    "parser.parse_posts()"
   ]
  },
  {
   "cell_type": "code",
   "execution_count": 4,
   "metadata": {},
   "outputs": [
    {
     "data": {
      "application/vnd.jupyter.widget-view+json": {
       "model_id": "301928f54f5a476ebdedfccff1fdb066",
       "version_major": 2,
       "version_minor": 0
      },
      "text/plain": [
       "HBox(children=(IntProgress(value=0, max=19), HTML(value='')))"
      ]
     },
     "metadata": {},
     "output_type": "display_data"
    },
    {
     "name": "stdout",
     "output_type": "stream",
     "text": [
      "\n"
     ]
    }
   ],
   "source": [
    "def get_parsers(directory='Data/'):\n",
    "    files = [file for file in os.listdir(directory) if file.endswith('.html')]\n",
    "    parsers = []\n",
    "    with tqdm(total=(len(files) * 6) + 1, smoothing=1) as pbar:\n",
    "        def update_bar(func, *args, **kwargs):\n",
    "            r = func(*args, **kwargs)\n",
    "            pbar.update(1)\n",
    "            return r\n",
    "        liwc = Liwc.LiwcAnalyzer()\n",
    "        pbar.update(1)\n",
    "        for file in files:\n",
    "            p = fbdp.FBDesktopParser(filename=os.path.join(directory, file))\n",
    "            pbar.update(1)\n",
    "            update_bar(p.parse_posts)\n",
    "            update_bar(p.extract_features)\n",
    "            liwc_posts = update_bar(liwc.parse, p.posts.text)\n",
    "            update_bar(p.join_features, liwc_posts)\n",
    "            update_bar(parsers.append, p)\n",
    "        pbar.close()\n",
    "    return parsers\n",
    "pages = get_parsers()"
   ]
  },
  {
   "cell_type": "code",
   "execution_count": 63,
   "metadata": {},
   "outputs": [],
   "source": [
    "numeric_pages = [p.posts._get_numeric_data() for p in pages]"
   ]
  },
  {
   "cell_type": "code",
   "execution_count": 64,
   "metadata": {},
   "outputs": [
    {
     "data": {
      "image/png": "[encoded data removed]",
      "text/plain": [
       "<Figure size 1512x720 with 3 Axes>"
      ]
     },
     "metadata": {
      "needs_background": "light"
     },
     "output_type": "display_data"
    }
   ],
   "source": [
    "def violin_compare(dataframes, column, axes=None, **kwargs):\n",
    "    if not axes:\n",
    "        fig, axes = plt.subplots(ncols=len(dataframes), nrows=1, figsize=(21, 10), sharey=True)\n",
    "    extrema = [(d[[column]].min()[0], d[[column]].max()[0]) for d in dataframes]\n",
    "    extrema = min(extrema, key=lambda x: x[0])[0], max(extrema, key=lambda x: x[1])[1]\n",
    "    for i, df in enumerate(dataframes):\n",
    "        sns.violinplot(data=df[[column]], ax=axes[i], **kwargs)\n",
    "        axes[i].set_ylim(extrema)\n",
    "        for spine in axes[i].spines:\n",
    "            axes[i].spines[spine].set_visible(False)\n",
    "            axes[i].yaxis.grid(True)\n",
    "    plt.subplots_adjust(wspace=0, hspace=0)\n",
    "violin_compare(numeric_pages, 'text_length')"
   ]
  },
  {
   "cell_type": "code",
   "execution_count": 66,
   "metadata": {},
   "outputs": [
    {
     "data": {
      "text/plain": [
       "Index(['has_article', 'text_length', 'num_hashtags', 'has_text',\n",
       "       'num_linked_profiles', 'num_links', 'num_tokens', 'num_words',\n",
       "       'num_periods', 'percent_periods', 'num_exclamations',\n",
       "       'percent_exclamations', 'num_questionms', 'percent_questionms',\n",
       "       'num_equals', 'percent_equals', 'num_dollars', 'percent_dollars', 'wc',\n",
       "       'sc', 'wps', 'dic', 'sixltr', 'funct', 'pronoun', 'ppron', 'i', 'we',\n",
       "       'you', 'shehe', 'they', 'ipron', 'article', 'verbs', 'auxvb', 'past',\n",
       "       'present', 'future', 'adverbs', 'prep', 'conj', 'negate', 'quant',\n",
       "       'numbers', 'swear', 'social', 'family', 'friends', 'humans', 'affect',\n",
       "       'posemo', 'negemo', 'anx', 'anger', 'sad', 'cogmech', 'insight',\n",
       "       'cause', 'discrep', 'tentat', 'certain', 'inhib', 'incl', 'excl',\n",
       "       'percept', 'see', 'hear', 'feel', 'bio', 'body', 'health', 'sexual',\n",
       "       'ingest', 'relativ', 'motion', 'space', 'time', 'work', 'achiev',\n",
       "       'leisure', 'home', 'money', 'relig', 'death', 'assent', 'nonflu',\n",
       "       'filler'],\n",
       "      dtype='object')"
      ]
     },
     "execution_count": 66,
     "metadata": {},
     "output_type": "execute_result"
    }
   ],
   "source": [
    "numeric_pages[0].columns"
   ]
  },
  {
   "cell_type": "code",
   "execution_count": 68,
   "metadata": {},
   "outputs": [
    {
     "data": {
      "image/png": "[encoded data removed]",
      "text/plain": [
       "<Figure size 1512x720 with 3 Axes>"
      ]
     },
     "metadata": {
      "needs_background": "light"
     },
     "output_type": "display_data"
    }
   ],
   "source": [
    "violin_compare(numeric_pages, 'num_links')"
   ]
  },
  {
   "cell_type": "code",
   "execution_count": null,
   "metadata": {},
   "outputs": [],
   "source": []
  }
 ],
 "metadata": {
  "kernelspec": {
   "display_name": "Python 3",
   "language": "python",
   "name": "python3"
  },
  "language_info": {
   "codemirror_mode": {
    "name": "ipython",
    "version": 3
   },
   "file_extension": ".py",
   "mimetype": "text/x-python",
   "name": "python",
   "nbconvert_exporter": "python",
   "pygments_lexer": "ipython3",
   "version": "3.7.2"
  }
 },
 "nbformat": 4,
 "nbformat_minor": 2
}
